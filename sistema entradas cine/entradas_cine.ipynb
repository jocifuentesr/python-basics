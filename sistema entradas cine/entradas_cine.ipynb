{
 "cells": [
  {
   "cell_type": "markdown",
   "metadata": {
    "jp-MarkdownHeadingCollapsed": true,
    "tags": []
   },
   "source": [
    "## Entradas al cine\n",
    "Se requiere implementar un sistema para un proyecto de cine, el cual, va desde el sistema de venta de boletos, hasta los agregados (palomitas y bebidas).\n",
    "\n",
    "Una simulación del sistema pregunta al cliente si es preferencial o no. El cliente muestra la identificación correspondiente, si la validación es correcta, el vendedor registra en el sistema True o False (preferencial, no preferencial).\n",
    "\n",
    "Los tipos de entrada disponible son:\n",
    "- Estreno: 9500\n",
    "- Normal: 5300\n",
    "\n",
    "El cliente al seleccionar una, también debe indicar la cantidad que desea, luego el sistema le consultará si desea agregar palomitas de maíz a su pedido, si la respuesta es “si”, entonces el sistema muestra las siguientes promociones:\n",
    "\n",
    "- Palomitas chicas: 3.700\n",
    "- Palomitas medianas: 4.800\n",
    "- Palomitas grandes: 8200\n",
    "\n",
    "Una vez que escoja el tipo de palomitas que desea debe escoger la cantidad.\n",
    "\n",
    "Finalmente, se le debe consultar si desea agregar bebidas de la misma forma que se hizo anteriormente.\n",
    "\n",
    "- Bebida chica: 2500\n",
    "- Bebida mediana: 4000\n",
    "- Bebida grande: 6000\n",
    "\n",
    "El sistema deberá mostrar el total a pagar por el cliente, solicitar el efectivo e indicar el vuelto necesario para el cliente.\n",
    "\n",
    "Adicionalmente, el sistema hará un descuento automático si el cliente es preferencial, el descuento es de 30% y solo se aplica a las entradas (no a las Palomitas ni Bebidas)."
   ]
  },
  {
   "cell_type": "markdown",
   "metadata": {},
   "source": [
    "## Código"
   ]
  },
  {
   "cell_type": "code",
   "execution_count": 1,
   "metadata": {},
   "outputs": [
    {
     "name": "stdout",
     "output_type": "stream",
     "text": [
      "SISTEMA DE VENTAS\n",
      "----------------------------------------\n",
      "PREGUNTE AL CLIENTE SI ES PREFERENCIAL\n",
      "----------------------------------------\n",
      "1. Cliente preferencial\n",
      "2. Cliente no preferencial\n",
      "Seleccione una opción: 1\n",
      "Cliente registrado como preferente. Aplica descuento\n"
     ]
    }
   ],
   "source": [
    "# TIPO DE CLIENTE\n",
    "print(\"SISTEMA DE VENTAS\")\n",
    "print(\"-\" * 40)\n",
    "print(\"PREGUNTE AL CLIENTE SI ES PREFERENCIAL\")\n",
    "print(\"-\" * 40)\n",
    "print(\"1. Cliente preferencial\")\n",
    "print(\"2. Cliente no preferencial\")\n",
    "opcion = int(input(\"Seleccione una opción: \"))\n",
    "preferente = False\n",
    "if opcion == 1:\n",
    "    preferente = True\n",
    "    print(\"Cliente registrado como preferente. Aplica descuento\")\n",
    "else:\n",
    "    print(\"Cliente no es preferente\")"
   ]
  },
  {
   "cell_type": "code",
   "execution_count": null,
   "metadata": {},
   "outputs": [],
   "source": [
    "# TIPO Y CANTIDAD DE ENTRADAS\n",
    "print(\"-\" * 40)\n",
    "print(\"TIPO DE ENTRADA\")\n",
    "print(\"-\" * 40)\n",
    "print(\"1. Estreno\")\n",
    "print(\"2. Normal\")\n",
    "opcion = int(input(\"Seleccione una opción: \"))\n",
    "estreno = False\n",
    "if opcion == 1:\n",
    "    estreno = True\n",
    "    print(\"Cliente compra entradas para estreno\")\n",
    "else:\n",
    "    print(\"Cliente compra entradas para función normal\")\n",
    "\n",
    "precio_estreno = 9500\n",
    "precio_normal = 5300\n",
    "cantidad_entradas = int(input(\"Ingrese la cantidad de entradas: \"))\n",
    "if estreno:\n",
    "    costo_entradas = cantidad_entradas * precio_estreno\n",
    "else:\n",
    "    costo_entradas = cantidad_entradas * precio_normal\n",
    "\n",
    "if preferente:\n",
    "    precio_pago = costo_entradas * 0.7\n",
    "    print(f\"El valor a pagar por {cantidad_entradas} entradas es: {round(precio_pago)}. Descuento aplicado\")\n",
    "else:\n",
    "    precio_pago = costo_entradas\n",
    "    print(f\"El valor a pagar por {cantidad_entradas} entradas es: {round(precio_pago)}\")"
   ]
  },
  {
   "cell_type": "code",
   "execution_count": null,
   "metadata": {},
   "outputs": [],
   "source": [
    "# PALOMITAS\n"
   ]
  }
 ],
 "metadata": {
  "kernelspec": {
   "display_name": "Python 3 (ipykernel)",
   "language": "python",
   "name": "python3"
  },
  "language_info": {
   "codemirror_mode": {
    "name": "ipython",
    "version": 3
   },
   "file_extension": ".py",
   "mimetype": "text/x-python",
   "name": "python",
   "nbconvert_exporter": "python",
   "pygments_lexer": "ipython3",
   "version": "3.10.4"
  },
  "vscode": {
   "interpreter": {
    "hash": "ce865345bb2e54e21a1c624a27193109868eaf8813771c22dad27c6a79d78b6e"
   }
  }
 },
 "nbformat": 4,
 "nbformat_minor": 4
}
